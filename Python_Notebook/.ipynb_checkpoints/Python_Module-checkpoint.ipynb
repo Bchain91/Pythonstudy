{
 "cells": [
  {
   "cell_type": "code",
   "execution_count": 1,
   "id": "858efd61",
   "metadata": {},
   "outputs": [],
   "source": [
    "def hello(name):\n",
    "    print('{} 님 안녕하세요'.format(name))\n",
    "def niceMeet(name):\n",
    "    print('{} 님 만나서 반갑습니다.'.format(name))"
   ]
  },
  {
   "cell_type": "code",
   "execution_count": 2,
   "id": "bedc9358",
   "metadata": {},
   "outputs": [
    {
     "name": "stdout",
     "output_type": "stream",
     "text": [
      "김연아 님 안녕하세요\n"
     ]
    }
   ],
   "source": [
    "hello('김연아')"
   ]
  },
  {
   "cell_type": "markdown",
   "id": "c15fc782",
   "metadata": {},
   "source": [
    "# 모듈(Module)"
   ]
  },
  {
   "cell_type": "code",
   "execution_count": 10,
   "id": "4e3f59e8",
   "metadata": {},
   "outputs": [],
   "source": [
    "import greet"
   ]
  },
  {
   "cell_type": "code",
   "execution_count": 16,
   "id": "7aa57f74",
   "metadata": {},
   "outputs": [
    {
     "name": "stdout",
     "output_type": "stream",
     "text": [
      "김민지 님 안녕하세요\n"
     ]
    }
   ],
   "source": [
    "greet.hello('김민지')"
   ]
  },
  {
   "cell_type": "code",
   "execution_count": 17,
   "id": "22392308",
   "metadata": {},
   "outputs": [
    {
     "name": "stdout",
     "output_type": "stream",
     "text": [
      "김민지 님 만나서 반갑습니다.\n"
     ]
    }
   ],
   "source": [
    "greet.niceMeet('김민지')"
   ]
  },
  {
   "cell_type": "code",
   "execution_count": 18,
   "id": "44c25457",
   "metadata": {},
   "outputs": [],
   "source": [
    "from greet import hello, niceMeet"
   ]
  },
  {
   "cell_type": "code",
   "execution_count": 19,
   "id": "a96176e9",
   "metadata": {},
   "outputs": [
    {
     "name": "stdout",
     "output_type": "stream",
     "text": [
      "홍길동 님 안녕하세요\n"
     ]
    }
   ],
   "source": [
    "hello('홍길동')"
   ]
  },
  {
   "cell_type": "code",
   "execution_count": 20,
   "id": "d1637030",
   "metadata": {},
   "outputs": [
    {
     "name": "stdout",
     "output_type": "stream",
     "text": [
      "홍길동 님 만나서 반갑습니다.\n"
     ]
    }
   ],
   "source": [
    "niceMeet('홍길동')"
   ]
  },
  {
   "cell_type": "code",
   "execution_count": 1,
   "id": "d82601a8",
   "metadata": {},
   "outputs": [],
   "source": [
    "import math"
   ]
  },
  {
   "cell_type": "code",
   "execution_count": 2,
   "id": "94146920",
   "metadata": {},
   "outputs": [
    {
     "name": "stdout",
     "output_type": "stream",
     "text": [
      "0.7071067811865476\n",
      "6.123233995736766e-17\n",
      "0.5773502691896257\n"
     ]
    }
   ],
   "source": [
    "b = math.sin(math.pi/4)\n",
    "print(b)\n",
    "b = math.cos(math.pi/2)\n",
    "print(b)\n",
    "b = math.tan(math.pi/6)\n",
    "print(b)"
   ]
  },
  {
   "cell_type": "code",
   "execution_count": 28,
   "id": "7566d824",
   "metadata": {},
   "outputs": [
    {
     "name": "stdout",
     "output_type": "stream",
     "text": [
      "8.0\n",
      "12.0\n",
      "3.0\n"
     ]
    }
   ],
   "source": [
    "c = math.pow(2,3)\n",
    "print(c)\n",
    "c = math.sqrt(144)\n",
    "print(c)\n",
    "c = math.log10(1000)\n",
    "print(c)"
   ]
  },
  {
   "cell_type": "code",
   "execution_count": 30,
   "id": "d883e875",
   "metadata": {},
   "outputs": [],
   "source": [
    "import random"
   ]
  },
  {
   "cell_type": "code",
   "execution_count": 49,
   "id": "25789dd5",
   "metadata": {},
   "outputs": [
    {
     "name": "stdout",
     "output_type": "stream",
     "text": [
      "4\n",
      "5\n"
     ]
    }
   ],
   "source": [
    "x = random.randint(1,6)\n",
    "print(x)\n",
    "y = random.randint(1,6)\n",
    "print(y)"
   ]
  },
  {
   "cell_type": "code",
   "execution_count": 108,
   "id": "519e74a6",
   "metadata": {
    "scrolled": true
   },
   "outputs": [
    {
     "name": "stdout",
     "output_type": "stream",
     "text": [
      "==================================================\n",
      "가위바위보 게임\n",
      "==================================================\n",
      "나 : 가위\n",
      "상대 : 보\n",
      "당신의 승리입니다!\n",
      "--------------------------------------------------\n",
      "나 : 바위\n",
      "상대 : 보\n",
      "당신의 패배입니다!\n",
      "--------------------------------------------------\n",
      "나 : 보\n",
      "상대 : 바위\n",
      "당신의 승리입니다!\n",
      "--------------------------------------------------\n",
      "나 : 보\n",
      "상대 : 보\n",
      "무승부입니다!\n",
      "--------------------------------------------------\n",
      "나 : 종료\n",
      "상대 : 보\n",
      "종료합니다.\n"
     ]
    }
   ],
   "source": [
    "import random\n",
    "\n",
    "print('='*50)\n",
    "print('가위바위보 게임')\n",
    "print('='*50)\n",
    "\n",
    "while True:\n",
    "    y = random.choice(['가위', '바위', '보'])\n",
    "    x = input('나 : ')\n",
    "\n",
    "    if(y == '가위'):\n",
    "        print('상대 : 가위')\n",
    "        if(x == '바위'):\n",
    "            print('당신의 승리입니다!')\n",
    "            print('-'*50)\n",
    "        elif(x == '가위'):\n",
    "            print('무승부입니다!')\n",
    "            print('-'*50)\n",
    "        elif(x == '보'):\n",
    "            print('당신의 패배입니다!')\n",
    "            print('-'*50)\n",
    "        else:\n",
    "            print('종료합니다.')\n",
    "            break\n",
    "            \n",
    "            \n",
    "    elif(y == '보'):\n",
    "        print('상대 : 보')\n",
    "        if(x == '가위'):\n",
    "            print('당신의 승리입니다!')\n",
    "            print('-'*50)\n",
    "        elif(x == '보'):\n",
    "            print('무승부입니다!')\n",
    "            print('-'*50)\n",
    "        elif(x == '바위'):\n",
    "            print('당신의 패배입니다!')\n",
    "            print('-'*50)\n",
    "        else:\n",
    "            print('종료합니다.')\n",
    "            break\n",
    "            \n",
    "    elif(y == '바위'):\n",
    "        print('상대 : 바위')\n",
    "        if(x == '보'):\n",
    "            print('당신의 승리입니다!')\n",
    "            print('-'*50)\n",
    "        elif(x == '바위'):\n",
    "            print('무승부입니다!')\n",
    "            print('-'*50)\n",
    "        elif(x == '가위'):\n",
    "            print('당신의 패배입니다!')\n",
    "            print('-'*50)\n",
    "        else:\n",
    "            print('종료합니다.')\n",
    "            break"
   ]
  },
  {
   "cell_type": "markdown",
   "id": "ada319f7",
   "metadata": {},
   "source": [
    "# Datetime Module"
   ]
  },
  {
   "cell_type": "code",
   "execution_count": 109,
   "id": "c16dbb54",
   "metadata": {},
   "outputs": [],
   "source": [
    "from datetime import datetime"
   ]
  },
  {
   "cell_type": "code",
   "execution_count": 110,
   "id": "b439370a",
   "metadata": {},
   "outputs": [
    {
     "name": "stdout",
     "output_type": "stream",
     "text": [
      "2023-03-16 13:11:57.447218\n",
      "<class 'datetime.datetime'>\n"
     ]
    }
   ],
   "source": [
    "today = datetime.now()\n",
    "print(today)\n",
    "print(type(today))"
   ]
  },
  {
   "cell_type": "code",
   "execution_count": 6,
   "id": "1f8a0d0c",
   "metadata": {},
   "outputs": [
    {
     "name": "stdout",
     "output_type": "stream",
     "text": [
      "2023-03-16 13:25:30.455143\n",
      "year is 2023\n",
      "month is 3\n",
      "day is 16\n",
      "hour is 13\n",
      "minute is 25\n",
      "second is 30\n",
      "microsecond is 455143\n"
     ]
    }
   ],
   "source": [
    "from datetime import datetime\n",
    "import time\n",
    "\n",
    "today = datetime.now()\n",
    "print(today)\n",
    "print('year is {}'.format(today.year))\n",
    "print('month is {}'.format(today.month))\n",
    "print('day is {}'.format(today.day))\n",
    "print('hour is {}'.format(today.hour))\n",
    "print('minute is {}'.format(today.minute))\n",
    "print('second is {}'.format(today.second))\n",
    "print('microsecond is {:06d}'.format(today.microsecond))"
   ]
  },
  {
   "cell_type": "code",
   "execution_count": 5,
   "id": "fa82c658",
   "metadata": {},
   "outputs": [
    {
     "name": "stdout",
     "output_type": "stream",
     "text": [
      "2023-03-16 13:22:38.678101\n",
      "year is 2023\n",
      "month is 3\n",
      "day is 16\n",
      "hour is 13\n",
      "minute is 24\n",
      "second is 49\n",
      "microsecond is 794420\n",
      "==================================================\n",
      "2023-03-16 13:22:38.678101\n",
      "year is 2023\n",
      "month is 3\n",
      "day is 16\n",
      "hour is 13\n",
      "minute is 24\n",
      "second is 54\n",
      "microsecond is 809902\n",
      "==================================================\n",
      "now - pre time is : 0:00:05.015482\n"
     ]
    }
   ],
   "source": [
    "from datetime import datetime\n",
    "import time\n",
    "\n",
    "pre = datetime.now()\n",
    "print(today)\n",
    "print('year is {}'.format(pre.year))\n",
    "print('month is {}'.format(pre.month))\n",
    "print('day is {}'.format(pre.day))\n",
    "print('hour is {}'.format(pre.hour))\n",
    "print('minute is {}'.format(pre.minute))\n",
    "print('second is {}'.format(pre.second))\n",
    "print('microsecond is {:06d}'.format(pre.microsecond))\n",
    "\n",
    "time.sleep(5)\n",
    "print('='*50)\n",
    "now = datetime.now()\n",
    "print(today)\n",
    "print('year is {}'.format(now.year))\n",
    "print('month is {}'.format(now.month))\n",
    "print('day is {}'.format(now.day))\n",
    "print('hour is {}'.format(now.hour))\n",
    "print('minute is {}'.format(now.minute))\n",
    "print('second is {}'.format(now.second))\n",
    "print('microsecond is {:06d}'.format(now.microsecond))\n",
    "print('='*50)\n",
    "print('now - pre time is : {}'.format(now-pre))"
   ]
  },
  {
   "cell_type": "code",
   "execution_count": 13,
   "id": "bc9688cb",
   "metadata": {},
   "outputs": [
    {
     "name": "stdout",
     "output_type": "stream",
     "text": [
      "2023-03-16 13:41:45.086238\n"
     ]
    }
   ],
   "source": [
    "from datetime import datetime\n",
    "import time\n",
    "today = datetime.now()\n",
    "print(today)\n",
    "today_str=today.strftime('%Y/%m/%d%H:%M:%S')"
   ]
  },
  {
   "cell_type": "markdown",
   "id": "a3c7aa52",
   "metadata": {},
   "source": [
    "# Logger Function\n",
    "형식...csv\n",
    "\n",
    "시간                          사람       AI          승리\n",
    "2023-03-16 13:30:55.986387    가위       보          사람\n",
    "2023-03-16 13:30:55.986387    바위       바위        무승부\n",
    "2023-03-16 13:30:55.986387    보         가위        AI\n",
    "2023-03-16 13:30:55.986387    가위       보          사람\n",
    "\n",
    "file i/o\n",
    "function (사람, AI)\n",
    "   return 승리자\n",
    "   \n",
    "while\n",
    "   input 사람\n",
    "   random AI\n",
    "   call function()\n",
    "   save log"
   ]
  },
  {
   "cell_type": "code",
   "execution_count": null,
   "id": "782a47ce",
   "metadata": {},
   "outputs": [],
   "source": [
    "def gameResult(human, ai):\n",
    "    if(ai == '가위'):\n",
    "        if(human == '바위'):\n",
    "            result = '사람'\n",
    "        elif(human == '가위'):\n",
    "            result = '무승부'\n",
    "        elif(human == '보'):\n",
    "            result = 'AI'\n",
    "            \n",
    "    elif(ai == '보'):\n",
    "        if(human == '가위'):\n",
    "            result = '사람'\n",
    "        elif(human == '보'):\n",
    "            result = '무승부'\n",
    "        elif(human == '바위'):\n",
    "            result = 'AI'\n",
    "            \n",
    "    elif(ai == '바위'):\n",
    "        if(human == '보'):\n",
    "            result = '사람'\n",
    "        elif(human == '바위'):\n",
    "            result = '무승부'\n",
    "        elif(human == '가위'):\n",
    "            result = 'AI'\n",
    "\n",
    "    return result"
   ]
  },
  {
   "cell_type": "code",
   "execution_count": 103,
   "id": "6cae2b79",
   "metadata": {},
   "outputs": [
    {
     "name": "stdout",
     "output_type": "stream",
     "text": [
      "==================================================\n",
      "가위바위보 게임\n",
      "==================================================\n",
      "가위\n",
      "2023-03-16 15:44:01.055974, 가위, 가위, 무승부\n",
      "바위\n",
      "2023-03-16 15:44:01.808824, 보, 바위, AI\n",
      "보\n",
      "2023-03-16 15:44:02.289438, 바위, 보, 사람\n",
      "민지\n",
      "continue\n",
      "가위\n",
      "2023-03-16 15:44:05.417479, 바위, 가위, AI\n",
      "보\n",
      "2023-03-16 15:44:06.265607, 보, 보, 무승부\n",
      "종료\n",
      "종료합니다\n"
     ]
    }
   ],
   "source": [
    "from datetime import datetime\n",
    "import time\n",
    "import random\n",
    "today = datetime.now()\n",
    "\n",
    "print('='*50)\n",
    "print('가위바위보 게임')\n",
    "print('='*50)\n",
    "\n",
    "file = open('logging.csv', 'w')\n",
    "file.write('시간, Ai, 사람, 승리\\n')\n",
    "data = 0\n",
    "\n",
    "while True:\n",
    "    ai = random.choice(['가위', '바위', '보'])\n",
    "    human = input()\n",
    "    today = datetime.now()\n",
    "    \n",
    "    if(human == '종료'):\n",
    "        print('종료합니다')\n",
    "        break\n",
    "    elif not(human == '가위' or human =='바위' or human =='보'):\n",
    "        print('continue')\n",
    "        continue\n",
    "\n",
    "    result = gameResult(human, ai)\n",
    "    \n",
    "    print('{}, {}, {}, {}'.format(today, ai, human, result))\n",
    "    data = '{}, {}, {}, {}'.format(today, ai, human, result)\n",
    "    file.write(\" \" + data + '\\n') \n",
    "\n",
    "file.close()"
   ]
  },
  {
   "cell_type": "code",
   "execution_count": 116,
   "id": "290a777c",
   "metadata": {},
   "outputs": [
    {
     "name": "stdout",
     "output_type": "stream",
     "text": [
      "a : 50\n",
      "b : 4\n",
      "50 + 4 = 54\n",
      "4 + 50 = 54\n",
      "덧셈의 교환법칙이 성립합니다.\n"
     ]
    }
   ],
   "source": [
    "a = int(input('a : '))\n",
    "b = int(input('b : '))\n",
    "\n",
    "c = a + b\n",
    "d = b + a\n",
    "print('{} + {} = {}'.format(a, b, c))\n",
    "print('{} + {} = {}'.format(b, a, d))\n",
    "\n",
    "if(c == d) :\n",
    "    print('덧셈의 교환법칙이 성립합니다.')\n",
    "else:\n",
    "    print('덧셈의 교환법칙이 성립하지 않습니다.')"
   ]
  },
  {
   "cell_type": "markdown",
   "id": "bf62886b",
   "metadata": {},
   "source": [
    "# 바코드 암호화 / 복호화\n",
    "123 -> :::||::|:|::||: 으로 출력\n",
    ":::||::|:|::||: -> 123 으로 출력"
   ]
  },
  {
   "cell_type": "code",
   "execution_count": 78,
   "id": "8375edd2",
   "metadata": {},
   "outputs": [
    {
     "name": "stdout",
     "output_type": "stream",
     "text": [
      "barcode : :|:|:\n",
      "barcode_index : 5, barcode_pattern : :|:|:\n",
      ":||::::||::::||\n",
      ":||::-6\n",
      "::||:-3\n",
      ":::||-1\n",
      ":||::::||::::||-631\n"
     ]
    },
    {
     "data": {
      "text/plain": [
       "'    for code in Barcode:\\n        if(ptrn == code):\\n            barcode_index = code'"
      ]
     },
     "execution_count": 78,
     "metadata": {},
     "output_type": "execute_result"
    }
   ],
   "source": [
    "Barcode = ['||:::',':::||','::|:|','::||:',':|::|', ':|:|:', ':||::', '|:::|', '|::|:', '|:|::']\n",
    "Num = ['0','1','2','3','4','5','6','7','8','9']\n",
    "\n",
    "barcode = input('barcode : ')\n",
    "barcode_index = 0\n",
    "for x in range(len(Barcode)):\n",
    "    if(barcode == Barcode[x]):\n",
    "        barcode_index = x\n",
    "            \n",
    "print('barcode_index : {}, barcode_pattern : {}'.format(barcode_index, Barcode[barcode_index]))\n",
    "\n",
    "\n",
    "a = input() #'||::::::||'\n",
    "i=0\n",
    "digits = ''\n",
    "for i in range(int(len(a)/5)):\n",
    "    ptrn = a[0+i*5:5+i*5]\n",
    "    #print(ptrn)\n",
    "    for x in range(len(Barcode)):\n",
    "        if(ptrn == Barcode[x]):\n",
    "            barcode_index = x\n",
    "            print('{}-{}'.format(ptrn,barcode_index))\n",
    "            digits += str(barcode_index)\n",
    "            #print('barcode_index : {}, barcode_pattern : {}'.format(barcode_index, Barcode[barcode_index]))   \n",
    "    \n",
    "print('{}-{}'.format(a,digits))\n",
    "\n",
    "'''    for code in Barcode:\n",
    "        if(ptrn == code):\n",
    "            barcode_index = code'''\n",
    "            \n",
    "        \n",
    "\n",
    "\n",
    "\n",
    "\n",
    "\n",
    "\n"
   ]
  },
  {
   "cell_type": "code",
   "execution_count": 2,
   "id": "b4cb2f82",
   "metadata": {},
   "outputs": [
    {
     "name": "stdout",
     "output_type": "stream",
     "text": [
      "barcode pattern = 10\n",
      "10 = \n",
      "--------------------------------------------------\n",
      "num pattern = 34\n",
      "34 = ::||::|::|\n"
     ]
    }
   ],
   "source": [
    "Barcode = ['||:::',':::||','::|:|','::||:',':|::|', ':|:|:', ':||::', '|:::|', '|::|:', '|:|::']\n",
    "Num = ['0','1','2','3','4','5','6','7','8','9']\n",
    "\n",
    "barcode_index = 0\n",
    "a = input('barcode pattern = ')\n",
    "i=0\n",
    "digits = ''\n",
    "for i in range(int(len(a)/5)):\n",
    "    ptrn = a[0+i*5:5+i*5]\n",
    "    for x in range(len(Barcode)):\n",
    "        if(ptrn == Barcode[x]):\n",
    "            barcode_index = x\n",
    "            digits += str(barcode_index)  \n",
    "    \n",
    "print('{} = {}'.format(a,digits))\n",
    "print('-'*50)\n",
    "\n",
    "num_index = 0\n",
    "b = input('num pattern = ')\n",
    "j=0\n",
    "digit = ''\n",
    "for j in range(int(len(b))):\n",
    "    pattern = b[0+j*1:1+j*1]\n",
    "    for y in range(len(Num)):\n",
    "        if(pattern == Num[y]):\n",
    "            num_index = y\n",
    "            digit += Barcode[num_index]\n",
    "            \n",
    "print('{} = {}'.format(b,digit))"
   ]
  },
  {
   "cell_type": "markdown",
   "id": "40d05aa7",
   "metadata": {},
   "source": [
    " "
   ]
  },
  {
   "cell_type": "code",
   "execution_count": null,
   "id": "a5db7072",
   "metadata": {},
   "outputs": [],
   "source": []
  }
 ],
 "metadata": {
  "kernelspec": {
   "display_name": "Python 3 (ipykernel)",
   "language": "python",
   "name": "python3"
  },
  "language_info": {
   "codemirror_mode": {
    "name": "ipython",
    "version": 3
   },
   "file_extension": ".py",
   "mimetype": "text/x-python",
   "name": "python",
   "nbconvert_exporter": "python",
   "pygments_lexer": "ipython3",
   "version": "3.9.13"
  }
 },
 "nbformat": 4,
 "nbformat_minor": 5
}
