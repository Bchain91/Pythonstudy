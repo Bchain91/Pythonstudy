{
 "cells": [
  {
   "cell_type": "code",
   "execution_count": 17,
   "id": "5917b146",
   "metadata": {
    "scrolled": true
   },
   "outputs": [
    {
     "data": {
      "text/plain": [
       "100"
      ]
     },
     "execution_count": 17,
     "metadata": {},
     "output_type": "execute_result"
    }
   ],
   "source": [
    "10*10\n"
   ]
  },
  {
   "cell_type": "code",
   "execution_count": 28,
   "id": "3d343599",
   "metadata": {},
   "outputs": [
    {
     "data": {
      "text/plain": [
       "20"
      ]
     },
     "execution_count": 28,
     "metadata": {},
     "output_type": "execute_result"
    }
   ],
   "source": [
    "10+10"
   ]
  },
  {
   "cell_type": "code",
   "execution_count": 29,
   "id": "9c51ff81",
   "metadata": {},
   "outputs": [
    {
     "name": "stdout",
     "output_type": "stream",
     "text": [
      "hello world\n"
     ]
    }
   ],
   "source": [
    "print('hello world')"
   ]
  },
  {
   "cell_type": "code",
   "execution_count": 30,
   "id": "0182dd3e",
   "metadata": {},
   "outputs": [],
   "source": [
    "a=1"
   ]
  },
  {
   "cell_type": "code",
   "execution_count": 31,
   "id": "223560a6",
   "metadata": {},
   "outputs": [
    {
     "name": "stdout",
     "output_type": "stream",
     "text": [
      "<class 'int'>\n"
     ]
    }
   ],
   "source": [
    "print(type(a))"
   ]
  },
  {
   "cell_type": "code",
   "execution_count": 32,
   "id": "ca8ef9f0",
   "metadata": {},
   "outputs": [],
   "source": [
    "a='1'"
   ]
  },
  {
   "cell_type": "code",
   "execution_count": 33,
   "id": "09e1fc40",
   "metadata": {},
   "outputs": [
    {
     "name": "stdout",
     "output_type": "stream",
     "text": [
      "<class 'str'>\n"
     ]
    }
   ],
   "source": [
    "print(type(a))"
   ]
  },
  {
   "cell_type": "code",
   "execution_count": 34,
   "id": "b2b8bd67",
   "metadata": {},
   "outputs": [],
   "source": [
    "a=[1,2,3,4,5,6]"
   ]
  },
  {
   "cell_type": "code",
   "execution_count": 35,
   "id": "d5453d8f",
   "metadata": {},
   "outputs": [
    {
     "name": "stdout",
     "output_type": "stream",
     "text": [
      "<class 'list'>\n"
     ]
    }
   ],
   "source": [
    "print(type(a))"
   ]
  },
  {
   "cell_type": "code",
   "execution_count": 36,
   "id": "8d555d22",
   "metadata": {},
   "outputs": [],
   "source": [
    "a={'1':1,'2':2,'3':3,'4':4,'5':5,'6':6}"
   ]
  },
  {
   "cell_type": "code",
   "execution_count": 37,
   "id": "75289df9",
   "metadata": {},
   "outputs": [
    {
     "name": "stdout",
     "output_type": "stream",
     "text": [
      "<class 'dict'>\n"
     ]
    }
   ],
   "source": [
    "print(type(a))"
   ]
  },
  {
   "cell_type": "code",
   "execution_count": 38,
   "id": "283da8d1",
   "metadata": {},
   "outputs": [
    {
     "data": {
      "text/plain": [
       "6"
      ]
     },
     "execution_count": 38,
     "metadata": {},
     "output_type": "execute_result"
    }
   ],
   "source": [
    "1+2+3"
   ]
  },
  {
   "cell_type": "code",
   "execution_count": 45,
   "id": "e68f3352",
   "metadata": {},
   "outputs": [
    {
     "name": "stdout",
     "output_type": "stream",
     "text": [
      "a=15\n",
      "-70\n",
      "<class 'int'>\n"
     ]
    }
   ],
   "source": [
    "#integer\n",
    "a=1+2+3+4+5\n",
    "print('a='+ str(a))\n",
    "a=-10+10+(-30-40)\n",
    "print(a)\n",
    "print(type(a))"
   ]
  },
  {
   "cell_type": "code",
   "execution_count": 44,
   "id": "9e53822d",
   "metadata": {},
   "outputs": [
    {
     "name": "stdout",
     "output_type": "stream",
     "text": [
      "a=271.9058\n",
      "0.6666666666666666\n",
      "<class 'float'>\n"
     ]
    }
   ],
   "source": [
    "#float\n",
    "a=458.14 + 48 - 234.2342\n",
    "print('a='+ str(a))\n",
    "a= 2/3\n",
    "print(a)\n",
    "print(type(a))"
   ]
  },
  {
   "cell_type": "code",
   "execution_count": 49,
   "id": "39b580c7",
   "metadata": {},
   "outputs": [
    {
     "name": "stdout",
     "output_type": "stream",
     "text": [
      "3.3333333333333335\n",
      "3\n"
     ]
    }
   ],
   "source": [
    "#//소수점 절삭 연산자\n",
    "a = 10/3\n",
    "print(a)\n",
    "a = 10//3\n",
    "print(a)"
   ]
  },
  {
   "cell_type": "code",
   "execution_count": 51,
   "id": "82f7eac4",
   "metadata": {
    "scrolled": true
   },
   "outputs": [
    {
     "name": "stdout",
     "output_type": "stream",
     "text": [
      "a=8\n",
      "a=81\n"
     ]
    }
   ],
   "source": [
    "#**제곱연산자\n",
    "a = 2**3\n",
    "print('a='+ str(a))\n",
    "a = 3**4\n",
    "print('a='+ str(a))"
   ]
  },
  {
   "cell_type": "markdown",
   "id": "0dc46854",
   "metadata": {},
   "source": [
    "## 문자열(string)"
   ]
  },
  {
   "cell_type": "code",
   "execution_count": 68,
   "id": "f3638149",
   "metadata": {},
   "outputs": [
    {
     "name": "stdout",
     "output_type": "stream",
     "text": [
      "a = hello world\n",
      "a = hello world\n",
      "a = hello worldhello worldhello world\n",
      "a[0] = h\n",
      "a[0] = e\n",
      "a[0] = l\n",
      "a[0] = l\n",
      "a[0] = o\n",
      "a[0] =  \n",
      "a[0:5] = hello\n"
     ]
    }
   ],
   "source": [
    "a = 'hello world'\n",
    "print('a = ' + a)\n",
    "a = 'hello world'\n",
    "print('a = ' + a)\n",
    "a = 'hello world' *3\n",
    "print('a = ' + a)\n",
    "\n",
    "a = 'hello world'\n",
    "print('a[0] = ' + a[0])\n",
    "print('a[0] = ' + a[1])\n",
    "print('a[0] = ' + a[2])\n",
    "print('a[0] = ' + a[3])\n",
    "print('a[0] = ' + a[4])\n",
    "print('a[0] = ' + a[5])\n",
    "print('a[0:5] = ' + a[0:5])"
   ]
  },
  {
   "cell_type": "code",
   "execution_count": 70,
   "id": "2043643a",
   "metadata": {},
   "outputs": [
    {
     "name": "stdout",
     "output_type": "stream",
     "text": [
      "Today - 2023-03-15\n",
      "string length - Today is 10\n"
     ]
    }
   ],
   "source": [
    "date = '20230315'\n",
    "year = date[0:4]\n",
    "month = date[4:6]\n",
    "day = date[6:]\n",
    "date2 = year + '-' + month + '-' + day\n",
    "print('Today - ' + date2)\n",
    "print('string length - Today is ' + str(len(date2)))"
   ]
  },
  {
   "cell_type": "code",
   "execution_count": 82,
   "id": "9cbbb333",
   "metadata": {},
   "outputs": [
    {
     "name": "stdout",
     "output_type": "stream",
     "text": [
      "나는 빨강 을 좋아합니다.\n",
      "나는 초록초록초록을 좋아합니다.\n"
     ]
    }
   ],
   "source": [
    "color = '빨강'\n",
    "fmt = '나는 %s 을 좋아합니다.' % color\n",
    "print(fmt)\n",
    "color = '초록'\n",
    "fmt = '나는 %s%s%s을 좋아합니다.' % (color,color,color)\n",
    "print(fmt)"
   ]
  },
  {
   "cell_type": "code",
   "execution_count": 85,
   "id": "42c33f94",
   "metadata": {},
   "outputs": [
    {
     "name": "stdout",
     "output_type": "stream",
     "text": [
      "sum : 280, avg : 93.333333\n",
      "sum : 280, avg : 93.333333\n",
      " result type - <class 'tuple'>\n"
     ]
    }
   ],
   "source": [
    "kor = 88\n",
    "eng = 95\n",
    "math = 97\n",
    "sum = kor+eng+math\n",
    "avg = sum/3\n",
    "\n",
    "fmt = 'sum : %d, avg : %f' % (sum, avg)\n",
    "result = (sum, avg)\n",
    "\n",
    "fmt = 'sum : %d, avg : %f' % result\n",
    "print(fmt)\n",
    "\n",
    "print(' result type - ' + str(type(result)))"
   ]
  },
  {
   "cell_type": "markdown",
   "id": "f31cd9e5",
   "metadata": {},
   "source": [
    "# Tuple-(a,b), List -[1,2], Dict - {'a':1}"
   ]
  },
  {
   "cell_type": "code",
   "execution_count": 86,
   "id": "497cac0d",
   "metadata": {},
   "outputs": [
    {
     "name": "stdout",
     "output_type": "stream",
     "text": [
      "input your name : hong kil dong\n",
      "name is hong kil dong\n"
     ]
    }
   ],
   "source": [
    "name = input(\"input your name : \")\n",
    "print(\"name is \" + name)"
   ]
  },
  {
   "cell_type": "code",
   "execution_count": 97,
   "id": "2465fa43",
   "metadata": {},
   "outputs": [
    {
     "name": "stdout",
     "output_type": "stream",
     "text": [
      "input integer value : 100\n",
      "value is 100\n",
      "input integer value : 20\n",
      "value is 20\n",
      "sum = 120\n",
      "sub = 80\n",
      "div = 5.0\n",
      "mul = 2000\n"
     ]
    }
   ],
   "source": [
    "a = input('input integer value : ')\n",
    "print('value is ' + a)\n",
    "b = input('input integer value : ')\n",
    "print('value is ' + b)\n",
    "a = int(a)\n",
    "b = int(b)\n",
    "sum = a + b\n",
    "avg = sum / 2\n",
    "div = a/b\n",
    "sub = a-b\n",
    "mul = a*b\n",
    "\n",
    "print('sum = ' + str(sum))\n",
    "print('sub = ' + str(sub))\n",
    "print('div = ' + str(div))\n",
    "print('mul = ' + str(mul))"
   ]
  },
  {
   "cell_type": "code",
   "execution_count": 100,
   "id": "62eabc89",
   "metadata": {},
   "outputs": [
    {
     "name": "stdout",
     "output_type": "stream",
     "text": [
      "물건 가격: 155\n",
      "구매 개수 : 5\n",
      "지불 금액 : 8000\n",
      "물건 가격 : 155, 구매 개수 : 5, 지불금액 : 8000 => 거스름 돈 : 7225\n"
     ]
    }
   ],
   "source": [
    "price = int(input('물건 가격: '))\n",
    "num = int(input('구매 개수 : '))\n",
    "pay = int(input('지불 금액 : '))\n",
    "change = pay - price * num\n",
    "print('물건 가격 : %d, 구매 개수 : %d, 지불금액 : %d => 거스름 돈 : %d' %(price,num,pay,change))\n",
    "      "
   ]
  },
  {
   "cell_type": "markdown",
   "id": "6e4d521e",
   "metadata": {},
   "source": [
    "# Python Logic - if and for"
   ]
  },
  {
   "cell_type": "code",
   "execution_count": 108,
   "id": "d2316ebd",
   "metadata": {},
   "outputs": [
    {
     "name": "stdout",
     "output_type": "stream",
     "text": [
      "input x value : 101\n",
      "positive\n"
     ]
    }
   ],
   "source": [
    "x = int(input('input x value : '))\n",
    "\n",
    "if x>100:\n",
    "    print('positive')\n",
    "elif x > 10:\n",
    "    print('x > 10')\n",
    "else:\n",
    "    print('negative')\n",
    "    "
   ]
  },
  {
   "cell_type": "code",
   "execution_count": 110,
   "id": "7fe51052",
   "metadata": {},
   "outputs": [
    {
     "name": "stdout",
     "output_type": "stream",
     "text": [
      "5>2 : True\n",
      "5<2 : False\n",
      "5==2 : False\n",
      "5!=2 : True\n",
      "5<=2 : False\n",
      "5>=2 : True\n"
     ]
    }
   ],
   "source": [
    "a = 5\n",
    "b = 2\n",
    "\n",
    "print(\"{a}>{b} : \".format(a = a, b = b) + str(a>b))\n",
    "print(\"{a}<{b} : \".format(a = a, b = b) + str(a<b))\n",
    "print(\"{a}=={b} : \".format(a = a, b = b) + str(a==b))\n",
    "print(\"{a}!={b} : \".format(a = a, b = b) + str(a!=b))\n",
    "print(\"{a}<={b} : \".format(a = a, b = b) + str(a<=b))\n",
    "print(\"{a}>={b} : \".format(a = a, b = b) + str(a>=b))"
   ]
  },
  {
   "cell_type": "code",
   "execution_count": 119,
   "id": "626d4477",
   "metadata": {},
   "outputs": [
    {
     "name": "stdout",
     "output_type": "stream",
     "text": [
      "and type : <class 'bool'> value : False\n",
      "or type : <class 'bool'> value : True\n",
      "== type : <class 'bool'> value : False\n",
      "not type : <class 'bool'> value : True\n",
      "not x%2 type : <class 'bool'> value : False\n",
      "not x%2 type : <class 'bool'> value : True\n"
     ]
    }
   ],
   "source": [
    "# 논리 연산자 & || ! => and or not\n",
    "kor = 60\n",
    "eng = 90\n",
    "comp = kor >= 70 and eng >= 90\n",
    "print('and type : '+ str(type(comp)) + ' value : ' + str(comp))\n",
    "comp = kor >= 70 or eng >= 90\n",
    "print('or type : '+ str(type(comp)) + ' value : ' + str(comp))\n",
    "\n",
    "comp = kor == 70\n",
    "print('== type : '+ str(type(comp)) + ' value : ' + str(comp))\n",
    "comp = not kor == 70\n",
    "print('not type : '+ str(type(comp)) + ' value : ' + str(comp))\n",
    "\n",
    "x= 5\n",
    "comp = x%2 == 0\n",
    "print('not x%2 type : '+ str(type(comp)) + ' value : ' + str(comp))\n",
    "comp = not x%2 == 0\n",
    "print('not x%2 type : '+ str(type(comp)) + ' value : ' + str(comp))\n",
    "\n"
   ]
  },
  {
   "cell_type": "code",
   "execution_count": 135,
   "id": "0ea14187",
   "metadata": {
    "scrolled": true
   },
   "outputs": [
    {
     "name": "stdout",
     "output_type": "stream",
     "text": [
      "정수를 입력하세요 : 50\n",
      "이력된 정수 : 50 입니다\n",
      "입력된 정수는 100 ~ 1000 사이에 있지 않습니다 !\n"
     ]
    }
   ],
   "source": [
    "#Quiz 100~1000의 정수 판별\n",
    "\n",
    "num = int(input('정수를 입력하세요 : '))\n",
    "\n",
    "result = '입력된 정수는 100 ~ 1000 사이에 있지 않습니다 !'\n",
    "if num >= 100 and num <= 1000:\n",
    "    result = '입력된 정수는 100~ 1000 사이에 있습니다 !'\n",
    "\n",
    "print('이력된 정수 : {} '.format(num) + '입니다.')\n",
    "print('{0}'.format(result))"
   ]
  },
  {
   "cell_type": "code",
   "execution_count": 154,
   "id": "c276567f",
   "metadata": {},
   "outputs": [
    {
     "name": "stdout",
     "output_type": "stream",
     "text": [
      "영어 소문자 하나를 입력하세요 : \n",
      "%s -> 자음\n"
     ]
    }
   ],
   "source": [
    "char = input('영어 소문자 하나를 입력하세요 : ')\n",
    "\n",
    "if(char == 'a' or char == 'e' or char =='i' or char == 'o' or char == 'u'):\n",
    "    print('%s -> {}'.format('모음'))\n",
    "else:\n",
    "    print('%s -> {}'.format('자음'))"
   ]
  },
  {
   "cell_type": "code",
   "execution_count": 169,
   "id": "c2dd0e64",
   "metadata": {},
   "outputs": [
    {
     "name": "stdout",
     "output_type": "stream",
     "text": [
      "월을 입력해주세요 : 9\n",
      "9월은가을 입니다\n"
     ]
    }
   ],
   "source": [
    "month = int(input('월을 입력해주세요 : '))\n",
    "\n",
    "if month >= 3 and month <=5 :\n",
    "    season = '봄'\n",
    "    print(month, '월은', season, ' 입니다', sep ='')\n",
    "elif month >=6 and month <= 8:\n",
    "    season = '여름'\n",
    "    print(month, '월은', season, ' 입니다', sep ='')\n",
    "elif month >=9 and month <= 11:\n",
    "    season = '가을'\n",
    "    print(month, '월은', season, ' 입니다', sep ='')\n",
    "elif month ==12 or month <= 2:\n",
    "    season = '겨울'\n",
    "    print(month, '월은', season, ' 입니다', sep ='')\n",
    "else:\n",
    "    print('월이 잘못 입력되었습니다.')"
   ]
  },
  {
   "cell_type": "markdown",
   "id": "9692cd71",
   "metadata": {},
   "source": [
    "# 반복문 ... for, while"
   ]
  },
  {
   "cell_type": "code",
   "execution_count": 189,
   "id": "d7a4444f",
   "metadata": {},
   "outputs": [
    {
     "name": "stdout",
     "output_type": "stream",
     "text": [
      "[0] hello world\n",
      "[1] hello world\n",
      "[2] hello world\n",
      "[3] hello world\n",
      "[4] hello world\n",
      "==============================\n",
      "2\n",
      "3\n",
      "4\n",
      "5\n",
      "==============================\n",
      "2\n",
      "4\n",
      "6\n",
      "8\n",
      "10\n",
      "12\n",
      "14\n",
      "16\n",
      "18\n",
      "20\n",
      "22\n",
      "24\n",
      "26\n",
      "28\n",
      "==============================\n",
      "apple\n",
      "cherry\n",
      "==============================\n",
      "apple apple\n",
      "apple banana\n",
      "apple cherry\n",
      "banana apple\n",
      "banana banana\n",
      "banana cherry\n",
      "cherry apple\n",
      "cherry banana\n",
      "cherry cherry\n",
      "==============================\n",
      "0\n",
      "1\n",
      "2\n",
      "3\n",
      "4\n",
      "5\n",
      "6\n"
     ]
    }
   ],
   "source": [
    "cnt = 5\n",
    "\n",
    "for i in range(cnt): #<=== for i = 0; i<cnt(5); i++\n",
    "    print('[{}] hello world'.format(i))\n",
    "print('==='*10)\n",
    "for x in range(2,6):\n",
    "    print(x)\n",
    "print('==='*10)\n",
    "for x in range(2,30,2):\n",
    "    print(x)\n",
    "print('==='*10)\n",
    "    \n",
    "fruits = ['apple', 'banana', 'cherry']\n",
    "for a in fruits:\n",
    "    if a == 'banana':\n",
    "        continue\n",
    "    print(a)\n",
    "print('==='*10)\n",
    "        \n",
    "for x in fruits:\n",
    "    for y in fruits:\n",
    "        print(x,y);\n",
    "                \n",
    "print('==='*10)\n",
    "for i in [0,1,2,3,4,5,6]:\n",
    "    print(i)"
   ]
  },
  {
   "cell_type": "markdown",
   "id": "3a55c484",
   "metadata": {},
   "source": [
    "# for --> 구구단\n",
    "2x1 = 2 3x1=3 ... 9x1=9\n",
    "2x2 = 4 3x2=6 ... 9x2=18\n",
    "...\n",
    "                  9x9=81"
   ]
  },
  {
   "cell_type": "code",
   "execution_count": 216,
   "id": "7f5bfd22",
   "metadata": {},
   "outputs": [
    {
     "name": "stdout",
     "output_type": "stream",
     "text": [
      "2*1=2\t3*1=3\t4*1=4\t5*1=5\t6*1=6\t7*1=7\t8*1=8\t9*1=9\t\n",
      "2*2=4\t3*2=6\t4*2=8\t5*2=10\t6*2=12\t7*2=14\t8*2=16\t9*2=18\t\n",
      "2*3=6\t3*3=9\t4*3=12\t5*3=15\t6*3=18\t7*3=21\t8*3=24\t9*3=27\t\n",
      "2*4=8\t3*4=12\t4*4=16\t5*4=20\t6*4=24\t7*4=28\t8*4=32\t9*4=36\t\n",
      "2*5=10\t3*5=15\t4*5=20\t5*5=25\t6*5=30\t7*5=35\t8*5=40\t9*5=45\t\n",
      "2*6=12\t3*6=18\t4*6=24\t5*6=30\t6*6=36\t7*6=42\t8*6=48\t9*6=54\t\n",
      "2*7=14\t3*7=21\t4*7=28\t5*7=35\t6*7=42\t7*7=49\t8*7=56\t9*7=63\t\n",
      "2*8=16\t3*8=24\t4*8=32\t5*8=40\t6*8=48\t7*8=56\t8*8=64\t9*8=72\t\n",
      "2*9=18\t3*9=27\t4*9=36\t5*9=45\t6*9=54\t7*9=63\t8*9=72\t9*9=81\t\n"
     ]
    }
   ],
   "source": [
    "for x in range(1,10):\n",
    "    for y in range(2,10):\n",
    "        print('{1}*{0}='.format(x, y) + str(x*y), end = '\\t')\n",
    "    print('')"
   ]
  },
  {
   "cell_type": "code",
   "execution_count": 214,
   "id": "b6499bb1",
   "metadata": {},
   "outputs": [
    {
     "name": "stdout",
     "output_type": "stream",
     "text": [
      "2x1=2\t3x1=3\t4x1=4\t5x1=5\t6x1=6\t7x1=7\t8x1=8\t9x1=9\t\n",
      "2x2=4\t3x2=6\t4x2=8\t5x2=10\t6x2=12\t7x2=14\t8x2=16\t9x2=18\t\n",
      "2x3=6\t3x3=9\t4x3=12\t5x3=15\t6x3=18\t7x3=21\t8x3=24\t9x3=27\t\n",
      "2x4=8\t3x4=12\t4x4=16\t5x4=20\t6x4=24\t7x4=28\t8x4=32\t9x4=36\t\n",
      "2x5=10\t3x5=15\t4x5=20\t5x5=25\t6x5=30\t7x5=35\t8x5=40\t9x5=45\t\n",
      "2x6=12\t3x6=18\t4x6=24\t5x6=30\t6x6=36\t7x6=42\t8x6=48\t9x6=54\t\n",
      "2x7=14\t3x7=21\t4x7=28\t5x7=35\t6x7=42\t7x7=49\t8x7=56\t9x7=63\t\n",
      "2x8=16\t3x8=24\t4x8=32\t5x8=40\t6x8=48\t7x8=56\t8x8=64\t9x8=72\t\n",
      "2x9=18\t3x9=27\t4x9=36\t5x9=45\t6x9=54\t7x9=63\t8x9=72\t9x9=81\t\n"
     ]
    }
   ],
   "source": [
    "for row in range(1,10,1):\n",
    "    line = ''\n",
    "    for col in range(2,10,1):\n",
    "        line += '{}x{}={}\\t'.format(col, row, col*row)\n",
    "    print(line)\n",
    "    "
   ]
  },
  {
   "cell_type": "markdown",
   "id": "61fb2ced",
   "metadata": {},
   "source": [
    "## List"
   ]
  },
  {
   "cell_type": "code",
   "execution_count": 232,
   "id": "9d4cd0c1",
   "metadata": {},
   "outputs": [
    {
     "name": "stdout",
     "output_type": "stream",
     "text": [
      "['red', 'green', 'blue', 'black', 'white']\n",
      "<class 'list'>\n",
      "red\n",
      "green\n",
      "['green', 'blue', 'black']\n",
      "<class 'list'>\n",
      "==================================================\n",
      "[1, 3, 5, 7, 9, 11, 13, 15, 17, 19]\n",
      "[7, 9, 11, 13]\n",
      "1\n",
      "3\n",
      "5\n",
      "7\n",
      "9\n",
      "11\n",
      "13\n",
      "15\n",
      "17\n",
      "19\n",
      "사자\n",
      "호랑이\n",
      "원숭이\n",
      "곰\n",
      "사슴\n",
      "==================================================\n",
      "['무궁화', '장미', '개나리']\n",
      "['무궁화', '장미', '개나리', '벗꽃']\n",
      "['무궁화', '개나리', '벗꽃']\n"
     ]
    }
   ],
   "source": [
    "color = ['red', 'green', 'blue', 'black', 'white']\n",
    "print(color)\n",
    "print(type(color))\n",
    "print(color[0])\n",
    "print(color[1])\n",
    "print(color[1:4])\n",
    "print(type(color[1:4]))\n",
    "print('=' * 50)\n",
    "\n",
    "nums = list(range(1,20,2))\n",
    "print(nums)\n",
    "print(nums[3:7])\n",
    "for x in nums:\n",
    "    print(x)\n",
    "    \n",
    "animals = ['사자','호랑이','원숭이','곰','사슴']\n",
    "i = 0\n",
    "while i<len(animals):\n",
    "    print(animals[i])\n",
    "    i = i+1\n",
    "print('=' * 50)\n",
    "\n",
    "\n",
    "\n",
    "flower = ['무궁화', '장미', '개나리']\n",
    "print(flower)\n",
    "flower.append('벗꽃')\n",
    "print(flower)\n",
    "flower.remove('장미')\n",
    "print(flower)\n",
    "    "
   ]
  },
  {
   "cell_type": "code",
   "execution_count": 251,
   "id": "17e4212d",
   "metadata": {},
   "outputs": [
    {
     "name": "stdout",
     "output_type": "stream",
     "text": [
      "성적을 입력하세요(종료 시 -1 입력):10\n",
      "성적을 입력하세요(종료 시 -1 입력):10\n",
      "성적을 입력하세요(종료 시 -1 입력):20\n",
      "성적을 입력하세요(종료 시 -1 입력):-1\n",
      "합계 : 40 , 평균 : 13.333333333333334\n"
     ]
    }
   ],
   "source": [
    "#리스트 성적 합계 및 평균\n",
    "\n",
    "scores = []\n",
    "while True:\n",
    "    x = int(input('성적을 입력하세요(종료 시 -1 입력):'))\n",
    "    if x == -1:\n",
    "        break\n",
    "    else:\n",
    "        scores.append(x)\n",
    "    \n",
    "sum = 0\n",
    "for score in scores:\n",
    "    sum = sum + score\n",
    "    \n",
    "avg = sum/ len(scores)\n",
    "\n",
    "print('합계 : {} , 평균 : {}'.format(sum,avg))"
   ]
  },
  {
   "cell_type": "code",
   "execution_count": 238,
   "id": "fbad1688",
   "metadata": {},
   "outputs": [
    {
     "name": "stdout",
     "output_type": "stream",
     "text": [
      "['apple', 'banana', 'cherry', 'kiwi', 'mango']\n"
     ]
    }
   ],
   "source": [
    "fruits = [\"apple\", \"banana\", \"cherry\", \"kiwi\", \"mango\"]\n",
    "newlist = [x for x in fruits]\n",
    "newlist = [x for x in fruits if 'a' in x]\n",
    "\n",
    "for x in fruits\n",
    "    if 'a' in x\n",
    "\n",
    "print(newlist)"
   ]
  },
  {
   "cell_type": "code",
   "execution_count": 256,
   "id": "e57ae269",
   "metadata": {},
   "outputs": [
    {
     "name": "stdout",
     "output_type": "stream",
     "text": [
      "[[1, 2, 3, 10], [4, 5, 6, 10], [7, 8, 9, 10]]\n",
      "<class 'list'>\n",
      "i_length : 3\n",
      "j_length : 4\n",
      "numbers[0][0] = 1\n",
      "numbers[0][1] = 2\n",
      "numbers[0][2] = 3\n",
      "numbers[0][3] = 10\n",
      "numbers[1][0] = 4\n",
      "numbers[1][1] = 5\n",
      "numbers[1][2] = 6\n",
      "numbers[1][3] = 10\n",
      "numbers[2][0] = 7\n",
      "numbers[2][1] = 8\n",
      "numbers[2][2] = 9\n",
      "numbers[2][3] = 10\n"
     ]
    }
   ],
   "source": [
    "numbers = [ [1,2,3,10],[4,5,6,10],[7,8,9,10]]\n",
    "print(numbers)\n",
    "print(type(numbers))\n",
    "\n",
    "i_len = len(numbers)\n",
    "j_len = len(numbers[i])\n",
    "print('i_length : ' + str(i_len))\n",
    "print('j_length : ' + str(j_len))\n",
    "\n",
    "for i in range(len(numbers)):\n",
    "    for j in range(len(numbers[i])):\n",
    "        print('numbers[{}][{}] = {}'.format(i, j, numbers[i][j]))\n",
    "        "
   ]
  },
  {
   "cell_type": "code",
   "execution_count": 271,
   "id": "9874561f",
   "metadata": {},
   "outputs": [
    {
     "name": "stdout",
     "output_type": "stream",
     "text": [
      "[[75, 83, 90], [86, 86, 73], [76, 95, 83], [89, 96, 69], [89, 76, 93]]\n",
      "1번째 학생의 합계 : 248, 평균: 82.66666666666667\n",
      "2번째 학생의 합계 : 245, 평균: 81.66666666666667\n",
      "3번째 학생의 합계 : 254, 평균: 84.66666666666667\n",
      "4번째 학생의 합계 : 254, 평균: 84.66666666666667\n",
      "5번째 학생의 합계 : 258, 평균: 86.0\n"
     ]
    }
   ],
   "source": [
    "scores=[\n",
    "    [75,83,90], #student1  합:  평균:\n",
    "    [86,86,73], #student2\n",
    "    [76,95,83], #student3\n",
    "    [89,96,69], #student4\n",
    "    [89,76,93]  #student5\n",
    "]\n",
    "print(scores)\n",
    "\n",
    "for row in range(len(scores)):\n",
    "    sum=0\n",
    "    for col in range(len(scores[col])):\n",
    "        sum += scores[row][col]\n",
    "        avg = sum / len(scores[col])\n",
    "    print('{}번째 학생의 합계 : {}, 평균: {}'.format(row+1,sum,avg))"
   ]
  },
  {
   "cell_type": "code",
   "execution_count": null,
   "id": "1d8ee01e",
   "metadata": {},
   "outputs": [],
   "source": []
  }
 ],
 "metadata": {
  "kernelspec": {
   "display_name": "Python 3 (ipykernel)",
   "language": "python",
   "name": "python3"
  },
  "language_info": {
   "codemirror_mode": {
    "name": "ipython",
    "version": 3
   },
   "file_extension": ".py",
   "mimetype": "text/x-python",
   "name": "python",
   "nbconvert_exporter": "python",
   "pygments_lexer": "ipython3",
   "version": "3.9.13"
  }
 },
 "nbformat": 4,
 "nbformat_minor": 5
}
