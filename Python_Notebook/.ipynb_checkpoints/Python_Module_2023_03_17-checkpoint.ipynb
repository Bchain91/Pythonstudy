{
 "cells": [
  {
   "cell_type": "markdown",
   "id": "bb94dd64",
   "metadata": {},
   "source": [
    "## 바코드 암호화 / 복호화 코드를 작성해줘"
   ]
  },
  {
   "cell_type": "markdown",
   "id": "737ca797",
   "metadata": {},
   "source": [
    "123 -> :::||::|::||: 으로 출력\n",
    ":::||::|:|::||: -> 123으로 출력하는 코드를 작성해주세요"
   ]
  },
  {
   "cell_type": "code",
   "execution_count": 6,
   "id": "54021ce6",
   "metadata": {},
   "outputs": [
    {
     "name": "stdout",
     "output_type": "stream",
     "text": [
      "||::: :::||\n",
      "<class 'list'>\n"
     ]
    },
    {
     "data": {
      "text/plain": [
       "\"secretCode = {0:'||:::',1:':::||',2:'::|:|',3:'::||:',4:':|::|',\\n              5:':|:|:',6:':||::',7:'|:::|',8:'|::|:',9:'|:|::'}\\nprint(secretCode[0],secretCode[1])\\nprint(type(secretCode))\""
      ]
     },
     "execution_count": 6,
     "metadata": {},
     "output_type": "execute_result"
    }
   ],
   "source": [
    "secretCode = ['||:::',':::||','::|:|','::||:',':|::|',\n",
    "              ':|:|:',':||::','|:::|','|::|:','|:|::']\n",
    "print(secretCode[0],secretCode[1])\n",
    "print(type(secretCode))\n",
    "'''secretCode = {0:'||:::',1:':::||',2:'::|:|',3:'::||:',4:':|::|',\n",
    "              5:':|:|:',6:':||::',7:'|:::|',8:'|::|:',9:'|:|::'}\n",
    "print(secretCode[0],secretCode[1])\n",
    "print(type(secretCode))'''"
   ]
  },
  {
   "cell_type": "markdown",
   "id": "4020be18",
   "metadata": {},
   "source": [
    "# 1단계 : 123-> :::||::|:|::||:"
   ]
  },
  {
   "cell_type": "code",
   "execution_count": 7,
   "id": "dbc2a94c",
   "metadata": {},
   "outputs": [
    {
     "name": "stdout",
     "output_type": "stream",
     "text": [
      "<class 'str'>\n",
      "123->:::||::|:|::||:\n"
     ]
    }
   ],
   "source": [
    "strNums = '123'\n",
    "print(type(strNums))\n",
    "\n",
    "def ConvertNumsToBarcode(strNums):    \n",
    "    strBarCodes = ''    \n",
    "    for n in strNums:        \n",
    "        strBarCodes = strBarCodes + secretCode[int(n)]\n",
    "    return strBarCodes\n",
    "\n",
    "strBarCodes = ConvertNumsToBarcode(strNums)\n",
    "print(strNums + '->' + strBarCodes)"
   ]
  },
  {
   "cell_type": "markdown",
   "id": "88930c41",
   "metadata": {},
   "source": [
    "## 2단계 : :::||::|:|::||: -> 123"
   ]
  },
  {
   "cell_type": "code",
   "execution_count": 9,
   "id": "4ce1866d",
   "metadata": {},
   "outputs": [
    {
     "name": "stdout",
     "output_type": "stream",
     "text": [
      "Barcodes 입력 : ::||:::||:\n",
      "Barcodes - ::||:::||:\n",
      "Nums - 12\n"
     ]
    },
    {
     "data": {
      "text/plain": [
       "'123'"
      ]
     },
     "execution_count": 9,
     "metadata": {},
     "output_type": "execute_result"
    }
   ],
   "source": [
    "strBarcodes = input(\"Barcodes 입력 : \")\n",
    "\n",
    "\n",
    "def ConvertBarCodeToNums(strBarcodes):\n",
    "    \n",
    "    inputSize = len(strBarcodes)\n",
    "    ptrnSize = len(secretCode[0])\n",
    "    strfindNums = ''\n",
    "    for n in range(0,inputSize,ptrnSize):\n",
    "        ptrn= strBarCodes[n:n+ptrnSize] \n",
    "        idx = 0\n",
    "        find_idx =0\n",
    "        for code in secretCode:\n",
    "            if code == ptrn:\n",
    "                find_idx = idx\n",
    "                strfindNums += str(find_idx)\n",
    "                break\n",
    "            else:\n",
    "                idx += 1\n",
    "    return strfindNums\n",
    "def ConvertBarCodeToNums2(strBarcodes):\n",
    "    ptrnSz = len(secretCode[0])\n",
    "    ptrnCount = len(strBarcodes)/ptrnSz\n",
    "    ptrnNums = ''\n",
    "    for x in range(0,len(strBarcodes),ptrnSz):\n",
    "        ptrn = strBarcodes[x:x+ptrnSz]\n",
    "        for k in range(len(secretCode)):\n",
    "            if ptrn == secretCode[k]:\n",
    "                ptrnNums+=str(k)\n",
    "    return ptrnNums\n",
    "print('Barcodes - {}'.format(strBarcodes))\n",
    "strNums = ConvertBarCodeToNums(strBarcodes)\n",
    "print('Nums - {}'.format(strNums))\n",
    "    \n",
    "ConvertBarCodeToNums(strBarCodes)"
   ]
  },
  {
   "cell_type": "code",
   "execution_count": 21,
   "id": "72f5cf5e",
   "metadata": {},
   "outputs": [
    {
     "name": "stdout",
     "output_type": "stream",
     "text": [
      "0\n"
     ]
    },
    {
     "ename": "IndexError",
     "evalue": "list assignment index out of range",
     "output_type": "error",
     "traceback": [
      "\u001b[1;31m---------------------------------------------------------------------------\u001b[0m",
      "\u001b[1;31mIndexError\u001b[0m                                Traceback (most recent call last)",
      "\u001b[1;32m~\\AppData\\Local\\Temp\\ipykernel_2556\\88399948.py\u001b[0m in \u001b[0;36m<module>\u001b[1;34m\u001b[0m\n\u001b[0;32m      8\u001b[0m             \u001b[0mtheater\u001b[0m\u001b[1;33m[\u001b[0m\u001b[0mrow\u001b[0m\u001b[1;33m]\u001b[0m\u001b[1;33m[\u001b[0m\u001b[0mcol\u001b[0m\u001b[1;33m]\u001b[0m \u001b[1;33m=\u001b[0m \u001b[1;34m'RE'\u001b[0m\u001b[1;33m\u001b[0m\u001b[1;33m\u001b[0m\u001b[0m\n\u001b[0;32m      9\u001b[0m         \u001b[1;32melse\u001b[0m\u001b[1;33m:\u001b[0m\u001b[1;33m\u001b[0m\u001b[1;33m\u001b[0m\u001b[0m\n\u001b[1;32m---> 10\u001b[1;33m             \u001b[0mtheater\u001b[0m\u001b[1;33m[\u001b[0m\u001b[0mrow\u001b[0m\u001b[1;33m]\u001b[0m\u001b[1;33m[\u001b[0m\u001b[0mcol\u001b[0m\u001b[1;33m]\u001b[0m \u001b[1;33m=\u001b[0m \u001b[1;34m'EC'\u001b[0m\u001b[1;33m\u001b[0m\u001b[1;33m\u001b[0m\u001b[0m\n\u001b[0m",
      "\u001b[1;31mIndexError\u001b[0m: list assignment index out of range"
     ]
    }
   ],
   "source": [
    "\n",
    "for row in range(0,8):\n",
    "    print(row)\n",
    "    for col in range(0,12):\n",
    "        if(row >= 6):\n",
    "            theater[row][col] = 'SP'\n",
    "        elif(row>=2 and row <= 5 and col >= 2 and col <=9):\n",
    "            theater[row][col] = 'RE'\n",
    "        else:\n",
    "            theater[row][col] = 'EC'\n"
   ]
  },
  {
   "cell_type": "code",
   "execution_count": null,
   "id": "cfd9d1a0",
   "metadata": {},
   "outputs": [],
   "source": []
  },
  {
   "cell_type": "code",
   "execution_count": 2,
   "id": "bac72f61",
   "metadata": {},
   "outputs": [],
   "source": []
  },
  {
   "cell_type": "code",
   "execution_count": 34,
   "id": "f7380f76",
   "metadata": {},
   "outputs": [
    {
     "name": "stdout",
     "output_type": "stream",
     "text": [
      "     1    2    3    4    5    6    7    8    9   10   11   12 \n",
      "A   EC   EC   EC   EC   EC   EC   EC   EC   EC   EC   EC   EC   \n",
      "B   EC   EC   EC   EC   EC   EC   EC   EC   EC   EC   EC   EC   \n",
      "C   EC   EC   RE   RE   RE   RE   RE   RE   RE   RE   EC   EC   \n",
      "D   EC   EC   RE   RE   RE   RE   RE   RE   RE   RE   EC   EC   \n",
      "E   EC   EC   RE   RE   RE   RE   RE   RE   RE   RE   EC   EC   \n",
      "F   EC   EC   RE   RE   RE   RE   RE   RE   RE   RE   EC   EC   \n",
      "G   SP   SP   SP   SP   SP   SP   SP   SP   SP   SP   SP   SP   \n",
      "H   SP   SP   SP   SP   SP   SP   SP   SP   SP   SP   SP   SP   \n",
      "원하는 좌석을 입력해주세요 : G11\n",
      "좌석번호 : G11\n",
      "티켓가격 : 10,000원\n"
     ]
    }
   ],
   "source": [
    "chair = [['EC', 'EC', 'EC', 'EC', 'EC', 'EC', 'EC', 'EC', 'EC', 'EC', 'EC', 'EC'],\n",
    "         ['EC', 'EC', 'EC', 'EC', 'EC', 'EC', 'EC', 'EC', 'EC', 'EC', 'EC', 'EC'],\n",
    "         ['EC', 'EC', 'RE', 'RE', 'RE', 'RE', 'RE', 'RE', 'RE', 'RE', 'EC', 'EC'],\n",
    "         ['EC', 'EC', 'RE', 'RE', 'RE', 'RE', 'RE', 'RE', 'RE', 'RE', 'EC', 'EC'],\n",
    "         ['EC', 'EC', 'RE', 'RE', 'RE', 'RE', 'RE', 'RE', 'RE', 'RE', 'EC', 'EC'],\n",
    "         ['EC', 'EC', 'RE', 'RE', 'RE', 'RE', 'RE', 'RE', 'RE', 'RE', 'EC', 'EC'],\n",
    "         ['SP', 'SP', 'SP', 'SP', 'SP', 'SP', 'SP', 'SP', 'SP', 'SP', 'SP', 'SP'],\n",
    "         ['SP', 'SP', 'SP', 'SP', 'SP', 'SP', 'SP', 'SP', 'SP', 'SP', 'SP', 'SP']]\n",
    "\n",
    "A = ['A', 'B', 'C', 'D', 'E', 'F', 'G', 'H']\n",
    "\n",
    "B = {1:'A',2:'B',3:'C',4:'D',5:'E',6:'F',7:'G',8:'H'}\n",
    "cnt = 0;\n",
    "for row in range(0,9):\n",
    "    if (row >= 1):\n",
    "        print(B[row], end = '   ')\n",
    "    elif (row == 0):\n",
    "        print('  ' , end = '')\n",
    "    for col in range(0,12):\n",
    "        if(row == 0 and col >=0):\n",
    "            print(\"{:4d}\".format(col+1), end = ' ')\n",
    "        elif(row >= 7):\n",
    "            print('SP', end = '   ')\n",
    "        elif(row>=3 and row <= 6 and col >= 2 and col <=9):\n",
    "            print('RE', end = '   ')\n",
    "        else:\n",
    "            print('EC', end = '   ')\n",
    "        cnt += 1\n",
    "        if (cnt % 12 == 0):\n",
    "            print('')\n",
    "\n",
    "str = input(\"원하는 좌석을 입력해주세요 : \")\n",
    "\n",
    "\n",
    "for n in range(len(A)):\n",
    "    if (str[0] == A[n]):\n",
    "        first = n\n",
    "        break\n",
    "    else:\n",
    "        first = None\n",
    "\n",
    "if(len(str)==3):\n",
    "    second = int(str[1]+str[2])-1\n",
    "else:\n",
    "    second = int(str[1])-1\n",
    "\n",
    "\n",
    "if(first == None or second >11 or second < 0):\n",
    "    print(\"좌석을 잘못 입력하셨습니다.좌석을 다시 입력해주세요.\")\n",
    "else:\n",
    "    if(chair[first][second] == 'EC'):\n",
    "        cost = \"7,000원\"\n",
    "        print(\"좌석번호 : \" + str)\n",
    "        print(\"티켓가격 : \" + cost)\n",
    "    elif(chair[first][second] == 'RE'):\n",
    "        cost = \"8,000원\"\n",
    "        print(\"좌석번호 : \" + str)\n",
    "        print(\"티켓가격 : \" + cost)\n",
    "    elif(chair[first][second] == 'SP'):\n",
    "        cost = \"10,000원\"\n",
    "        print(\"좌석번호 : \" + str)\n",
    "        print(\"티켓가격 : \" + cost)\n"
   ]
  },
  {
   "cell_type": "code",
   "execution_count": 33,
   "id": "567cba13",
   "metadata": {},
   "outputs": [
    {
     "name": "stdout",
     "output_type": "stream",
     "text": [
      "EC : 7000원, RE : 8000원, SP: 10000원\n",
      "\n",
      "- 좌석배치도\n",
      "\n",
      "   |  1   |  2   |  3   |  4   |  5   |  6   |  7   |  8   |  9   |  10  |  11  |  12  |\n",
      "--------------------------------------------------------------------------------------------\n",
      "A  |  EC  |  EC  |  EC  |  EC  |  EC  |  EC  |  EC  |  EC  |  EC  |  EC  |  EC  |  EC  |\n",
      "--------------------------------------------------------------------------------------------\n",
      "B  |  EC  |  EC  |  EC  |  EC  |  EC  |  EC  |  EC  |  EC  |  EC  |  EC  |  EC  |  EC  |\n",
      "--------------------------------------------------------------------------------------------\n",
      "C  |  EC  |  EC  |  RE  |  RE  |  RE  |  RE  |  RE  |  RE  |  RE  |  RE  |  EC  |  EC  |\n",
      "--------------------------------------------------------------------------------------------\n",
      "D  |  EC  |  EC  |  RE  |  RE  |  RE  |  RE  |  RE  |  RE  |  RE  |  RE  |  EC  |  EC  |\n",
      "--------------------------------------------------------------------------------------------\n",
      "E  |  EC  |  EC  |  RE  |  RE  |  RE  |  RE  |  RE  |  RE  |  RE  |  RE  |  EC  |  EC  |\n",
      "--------------------------------------------------------------------------------------------\n",
      "F  |  EC  |  EC  |  RE  |  RE  |  RE  |  RE  |  RE  |  RE  |  RE  |  RE  |  EC  |  EC  |\n",
      "--------------------------------------------------------------------------------------------\n",
      "G  |  SP  |  SP  |  SP  |  SP  |  SP  |  SP  |  SP  |  SP  |  SP  |  SP  |  SP  |  SP  |\n",
      "--------------------------------------------------------------------------------------------\n",
      "H  |  SP  |  SP  |  SP  |  SP  |  SP  |  SP  |  SP  |  SP  |  SP  |  SP  |  SP  |  SP  |\n",
      "--------------------------------------------------------------------------------------------\n",
      "원하는 좌석을 선택해주세요. (예 : F11) : G11\n"
     ]
    },
    {
     "ename": "TypeError",
     "evalue": "'str' object is not callable",
     "output_type": "error",
     "traceback": [
      "\u001b[1;31m---------------------------------------------------------------------------\u001b[0m",
      "\u001b[1;31mTypeError\u001b[0m                                 Traceback (most recent call last)",
      "\u001b[1;32m~\\AppData\\Local\\Temp\\ipykernel_8644\\1466962826.py\u001b[0m in \u001b[0;36m<module>\u001b[1;34m\u001b[0m\n\u001b[0;32m     28\u001b[0m \u001b[1;33m\u001b[0m\u001b[0m\n\u001b[0;32m     29\u001b[0m \u001b[1;32mwhile\u001b[0m \u001b[0mstate\u001b[0m \u001b[1;33m!=\u001b[0m \u001b[1;36m1\u001b[0m\u001b[1;33m:\u001b[0m\u001b[1;33m\u001b[0m\u001b[1;33m\u001b[0m\u001b[0m\n\u001b[1;32m---> 30\u001b[1;33m     \u001b[0mseat\u001b[0m \u001b[1;33m=\u001b[0m \u001b[0mstr\u001b[0m\u001b[1;33m(\u001b[0m\u001b[0minput\u001b[0m\u001b[1;33m(\u001b[0m\u001b[1;34m'원하는 좌석을 선택해주세요. (예 : F11) : '\u001b[0m\u001b[1;33m)\u001b[0m\u001b[1;33m)\u001b[0m\u001b[1;33m\u001b[0m\u001b[1;33m\u001b[0m\u001b[0m\n\u001b[0m\u001b[0;32m     31\u001b[0m     \u001b[1;32mif\u001b[0m \u001b[0mord\u001b[0m\u001b[1;33m(\u001b[0m\u001b[1;34m'H'\u001b[0m\u001b[1;33m)\u001b[0m \u001b[1;33m<\u001b[0m \u001b[0mord\u001b[0m\u001b[1;33m(\u001b[0m\u001b[0mseat\u001b[0m\u001b[1;33m[\u001b[0m\u001b[1;36m0\u001b[0m\u001b[1;33m]\u001b[0m\u001b[1;33m)\u001b[0m \u001b[1;32mor\u001b[0m \u001b[0mint\u001b[0m\u001b[1;33m(\u001b[0m\u001b[0mseat\u001b[0m\u001b[1;33m[\u001b[0m\u001b[1;36m1\u001b[0m\u001b[1;33m:\u001b[0m\u001b[1;33m]\u001b[0m\u001b[1;33m)\u001b[0m \u001b[1;33m>\u001b[0m \u001b[1;36m12\u001b[0m\u001b[1;33m:\u001b[0m\u001b[1;33m\u001b[0m\u001b[1;33m\u001b[0m\u001b[0m\n\u001b[0;32m     32\u001b[0m                 \u001b[0mprint\u001b[0m\u001b[1;33m(\u001b[0m\u001b[1;34m'좌석번호가 잘못되었습니다. 다시 입력해주세요'\u001b[0m\u001b[1;33m)\u001b[0m\u001b[1;33m\u001b[0m\u001b[1;33m\u001b[0m\u001b[0m\n",
      "\u001b[1;31mTypeError\u001b[0m: 'str' object is not callable"
     ]
    }
   ],
   "source": [
    "seatList = {\n",
    "    ' ': ['1 ',  '2 ',  '3 ',  '4 ',  '5 ',  '6 ',  '7 ',  '8 ',  '9 ',  '10', '11', '12'],\n",
    "    'A': ['EC', 'EC', 'EC', 'EC', 'EC', 'EC', 'EC', 'EC', 'EC', 'EC', 'EC', 'EC'],\n",
    "    'B': ['EC', 'EC', 'EC', 'EC', 'EC', 'EC', 'EC', 'EC', 'EC', 'EC', 'EC', 'EC'],\n",
    "    'C': ['EC', 'EC', 'RE', 'RE', 'RE', 'RE', 'RE', 'RE', 'RE', 'RE', 'EC', 'EC'],\n",
    "    'D': ['EC', 'EC', 'RE', 'RE', 'RE', 'RE', 'RE', 'RE', 'RE', 'RE', 'EC', 'EC'],\n",
    "    'E': ['EC', 'EC', 'RE', 'RE', 'RE', 'RE', 'RE', 'RE', 'RE', 'RE', 'EC', 'EC'],\n",
    "    'F': ['EC', 'EC', 'RE', 'RE', 'RE', 'RE', 'RE', 'RE', 'RE', 'RE', 'EC', 'EC'],\n",
    "    'G': ['SP', 'SP', 'SP', 'SP', 'SP', 'SP', 'SP', 'SP', 'SP', 'SP', 'SP', 'SP'],\n",
    "    'H': ['SP', 'SP', 'SP', 'SP', 'SP', 'SP', 'SP', 'SP', 'SP', 'SP', 'SP', 'SP']\n",
    "}\n",
    "\n",
    "price = {'EC': 7000, 'RE': 8000, 'SP': 10000}\n",
    "\n",
    "state = 0\n",
    "\n",
    "print('EC : {}원, RE : {}원, SP: {}원\\n'.format(\n",
    "    price['EC'], price['RE'], price['SP']))\n",
    "print('- 좌석배치도\\n')\n",
    "\n",
    "for key, value in seatList.items():\n",
    "    print(key+'  | ' + ' ', end='')\n",
    "    for col in range(len(value)):\n",
    "        if col == 11:\n",
    "            print(value[col]+'  |')\n",
    "        else:\n",
    "            print(value[col]+'  | ' + ' ', end='')\n",
    "    print('-'*92)\n",
    "\n",
    "while state != 1:\n",
    "    seat = str(input('원하는 좌석을 선택해주세요. (예 : F11) : '))\n",
    "    if ord('H') < ord(seat[0]) or int(seat[1:]) > 12:\n",
    "        print('좌석번호가 잘못되었습니다. 다시 입력해주세요')\n",
    "    for key, value in seatList.items():\n",
    "        if key == seat[0]:\n",
    "            print('좌석번호 : ' + seat)\n",
    "            print('티켓 가격 : ' + str(price[value[int(seat[1:])-1]]))\n",
    "            state = 1"
   ]
  }
 ],
 "metadata": {
  "kernelspec": {
   "display_name": "Python 3 (ipykernel)",
   "language": "python",
   "name": "python3"
  },
  "language_info": {
   "codemirror_mode": {
    "name": "ipython",
    "version": 3
   },
   "file_extension": ".py",
   "mimetype": "text/x-python",
   "name": "python",
   "nbconvert_exporter": "python",
   "pygments_lexer": "ipython3",
   "version": "3.9.13"
  },
  "toc": {
   "base_numbering": 1,
   "nav_menu": {},
   "number_sections": true,
   "sideBar": true,
   "skip_h1_title": false,
   "title_cell": "Table of Contents",
   "title_sidebar": "Contents",
   "toc_cell": false,
   "toc_position": {},
   "toc_section_display": true,
   "toc_window_display": false
  },
  "varInspector": {
   "cols": {
    "lenName": 16,
    "lenType": 16,
    "lenVar": 40
   },
   "kernels_config": {
    "python": {
     "delete_cmd_postfix": "",
     "delete_cmd_prefix": "del ",
     "library": "var_list.py",
     "varRefreshCmd": "print(var_dic_list())"
    },
    "r": {
     "delete_cmd_postfix": ") ",
     "delete_cmd_prefix": "rm(",
     "library": "var_list.r",
     "varRefreshCmd": "cat(var_dic_list()) "
    }
   },
   "position": {
    "height": "238.844px",
    "left": "17px",
    "right": "20px",
    "top": "-2px",
    "width": "325px"
   },
   "types_to_exclude": [
    "module",
    "function",
    "builtin_function_or_method",
    "instance",
    "_Feature"
   ],
   "window_display": false
  }
 },
 "nbformat": 4,
 "nbformat_minor": 5
}
